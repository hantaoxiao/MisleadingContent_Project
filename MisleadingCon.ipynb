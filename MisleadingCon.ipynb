{
  "nbformat": 4,
  "nbformat_minor": 0,
  "metadata": {
    "colab": {
      "provenance": []
    },
    "kernelspec": {
      "name": "python3",
      "display_name": "Python 3"
    },
    "language_info": {
      "name": "python"
    }
  },
  "cells": [
    {
      "cell_type": "code",
      "source": [
        "!pip install gender-guesser\n",
        "!pip install genderize"
      ],
      "metadata": {
        "colab": {
          "base_uri": "https://localhost:8080/"
        },
        "id": "umrlC7gVQ9lW",
        "outputId": "d047c957-1ca1-49c3-cf00-30e6f65b9fd5"
      },
      "execution_count": 8,
      "outputs": [
        {
          "output_type": "stream",
          "name": "stdout",
          "text": [
            "Requirement already satisfied: gender-guesser in /usr/local/lib/python3.10/dist-packages (0.4.0)\n",
            "Collecting genderize\n",
            "  Downloading Genderize-0.3.1-py3-none-any.whl (5.7 kB)\n",
            "Requirement already satisfied: requests>=1.0.0 in /usr/local/lib/python3.10/dist-packages (from genderize) (2.31.0)\n",
            "Requirement already satisfied: charset-normalizer<4,>=2 in /usr/local/lib/python3.10/dist-packages (from requests>=1.0.0->genderize) (3.3.1)\n",
            "Requirement already satisfied: idna<4,>=2.5 in /usr/local/lib/python3.10/dist-packages (from requests>=1.0.0->genderize) (3.4)\n",
            "Requirement already satisfied: urllib3<3,>=1.21.1 in /usr/local/lib/python3.10/dist-packages (from requests>=1.0.0->genderize) (2.0.7)\n",
            "Requirement already satisfied: certifi>=2017.4.17 in /usr/local/lib/python3.10/dist-packages (from requests>=1.0.0->genderize) (2023.7.22)\n",
            "Installing collected packages: genderize\n",
            "Successfully installed genderize-0.3.1\n"
          ]
        }
      ]
    },
    {
      "cell_type": "code",
      "execution_count": 45,
      "metadata": {
        "id": "nktr226tQHJH"
      },
      "outputs": [],
      "source": [
        "import pandas as pd\n",
        "import numpy as np\n",
        "import gender_guesser.detector as gender\n",
        "from genderize import Genderize\n",
        "import matplotlib.pyplot as plt\n",
        "import seaborn as sns\n",
        "import os\n",
        "import spacy\n",
        "import warnings\n",
        "warnings.filterwarnings('ignore')"
      ]
    },
    {
      "cell_type": "code",
      "source": [
        "# develop help function\n",
        "\n",
        "\n",
        "def remove_subsets(names):\n",
        "    names_sorted = sorted(names, key=len, reverse=True)\n",
        "\n",
        "    final_names = set(names_sorted)\n",
        "\n",
        "    for name in names_sorted:\n",
        "        if name in final_names:\n",
        "            subsets = {name[:i] for i in range(len(name))}.union({name[i:] for i in range(1, len(name))})\n",
        "\n",
        "            final_names.difference_update(subsets)\n",
        "\n",
        "    return list(final_names)\n",
        "\n",
        "def extract_names(text):\n",
        "    spacy.prefer_gpu()\n",
        "    nlp = spacy.load(\"en_core_web_sm\")\n",
        "    doc = nlp(text)\n",
        "    # Extract entities recognized as PERSON\n",
        "    names = remove_subsets([ent.text.lower() for ent in doc.ents if ent.label_ == \"PERSON\"])\n",
        "    pronouns = list(set([token.text.lower() for token in doc if token.pos_ == \"PRON\"]))\n",
        "    # only keep the 'he', 'she', 'her', 'his', 'him', 'himself', 'herself'\n",
        "    pronouns = [pronoun for pronoun in pronouns if pronoun in ['he', 'she', 'her', 'his', 'him', 'himself', 'herself']]\n",
        "    return names + pronouns\n",
        "\n",
        "\n",
        "# Function to detect gender\n",
        "def detect_gender(name):\n",
        "    d = gender.Detector(case_sensitive=False)\n",
        "    return d.get_gender(name)\n",
        "\n",
        "# Function to decide the gender based on the highest count category for each name component\n",
        "def decide_gender_for_full_name(full_name):\n",
        "    pronouns = {\n",
        "        'he': 'male',\n",
        "        'she': 'female',\n",
        "        'her': 'female',\n",
        "        'his': 'male',\n",
        "        'him': 'male',\n",
        "        'himself': 'male',\n",
        "        'herself': 'female'\n",
        "    }\n",
        "    name_parts = full_name.split()\n",
        "    gender_counts = {'male': 0, 'female': 0, 'unknown': 0}\n",
        "\n",
        "    for part in name_parts:\n",
        "        if part.lower() in pronouns:\n",
        "            gender_counts[pronouns[part.lower()]] += 1\n",
        "        else:\n",
        "            detected_gender = detect_gender(part)\n",
        "            if detected_gender == 'male':\n",
        "                gender_counts['male'] += 1\n",
        "            elif detected_gender == 'female':\n",
        "                gender_counts['female'] += 1\n",
        "            else:\n",
        "                gender_counts['unknown'] += 1\n",
        "\n",
        "    # Decide the gender based on the highest count\n",
        "    final_gender = max(gender_counts, key=gender_counts.get)\n",
        "    return final_gender if gender_counts[final_gender] > gender_counts['unknown'] else 'unknown'\n",
        "\n",
        "# Function to count genders in a list of full names\n",
        "def count_genders(names_list):\n",
        "    male_count = 0\n",
        "    female_count = 0\n",
        "    unknown_count = 0\n",
        "\n",
        "    for full_name in names_list:\n",
        "        print(full_name)\n",
        "\n",
        "        final_gender = decide_gender_for_full_name(full_name)\n",
        "        if final_gender == 'male':\n",
        "            male_count += 1\n",
        "            print('male')\n",
        "        elif final_gender == 'female':\n",
        "            female_count += 1\n",
        "            print('female')\n",
        "        else:\n",
        "            unknown_count += 1\n",
        "            print('unknown')\n",
        "\n",
        "\n",
        "    if male_count != 0 or female_count != 0:\n",
        "        return 'male' if male_count > female_count else 'female'\n",
        "    return 'unknown'\n"
      ],
      "metadata": {
        "id": "Inci6FLtQ5-P"
      },
      "execution_count": 46,
      "outputs": []
    },
    {
      "cell_type": "code",
      "source": [
        "df_fake = pd.read_csv(\"/content/drive/MyDrive/MisleadingContent/Fake.csv\")\n",
        "df_true = pd.read_csv(\"/content/drive/MyDrive/MisleadingContent/True.csv\")\n",
        "print(df_fake.shape)\n",
        "print(df_true.shape)\n"
      ],
      "metadata": {
        "colab": {
          "base_uri": "https://localhost:8080/"
        },
        "id": "gQ7oXixLSgW6",
        "outputId": "0b99e6af-649e-4cb2-ea33-9192916d5597"
      },
      "execution_count": 47,
      "outputs": [
        {
          "output_type": "stream",
          "name": "stdout",
          "text": [
            "(23481, 4)\n",
            "(21417, 4)\n"
          ]
        }
      ]
    },
    {
      "cell_type": "code",
      "source": [
        "# since the model max_length is 512, so we need to drop new's length over 512\n",
        "\n",
        "df_fake['length'] = df_fake['title'].str.len() + df_fake['text'].str.len()\n",
        "df_fake = df_fake[df_fake['length'] <= 512]\n",
        "\n",
        "print(df_fake.shape)\n",
        "\n",
        "# delete the row where the length of title + text is over 512\n",
        "df_true['length'] = df_true['title'].str.len() + df_true['text'].str.len()\n",
        "df_true = df_true[df_true['length'] <= 512]\n",
        "print(df_true.shape)"
      ],
      "metadata": {
        "colab": {
          "base_uri": "https://localhost:8080/"
        },
        "id": "o7UARvc6SoPm",
        "outputId": "255520fc-4c5f-4abd-babb-ff63ef9291ab"
      },
      "execution_count": 48,
      "outputs": [
        {
          "output_type": "stream",
          "name": "stdout",
          "text": [
            "(2175, 5)\n",
            "(1479, 5)\n"
          ]
        }
      ]
    },
    {
      "cell_type": "code",
      "source": [
        "# create name and pronouns\n",
        "from tqdm import tqdm\n",
        "tqdm.pandas(desc=\"My Progress Bar\")\n",
        "\n",
        "\n",
        "df_fake['names_pronouns'] = df_fake['text'].apply(extract_names)\n",
        "df_true['names_pronouns'] = df_true['text'].apply(extract_names)\n",
        "\n",
        "# define gender\n",
        "df_fake['gender'] = df_fake['names_pronouns'].apply(count_genders)\n",
        "df_true['gender'] = df_true['names_pronouns'].apply(count_genders)\n",
        "\n"
      ],
      "metadata": {
        "id": "HLK8bkUmZz61"
      },
      "execution_count": null,
      "outputs": []
    },
    {
      "cell_type": "code",
      "source": [],
      "metadata": {
        "id": "Ow0II3l4c8xm"
      },
      "execution_count": null,
      "outputs": []
    }
  ]
}